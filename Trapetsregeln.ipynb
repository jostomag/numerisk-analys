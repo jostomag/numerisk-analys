{
 "cells": [
  {
   "cell_type": "markdown",
   "metadata": {},
   "source": [
    "# Arbetsbok:Trapetsregeln\n",
    "\n",
    "I den här arbetsboken kommer ni få en möjlighet att studera hur Trapetsregeln kan implementeras i Python. Ni börjar att arbeta med uppgift 1-4 i kronologisk ordning, uppgift 5 är en extra uppgift som ni gör om det finns tid över. Lektionspasset avslutas med uppgift 6. Under lektionen kommer grupparbetet avbrytas vid några tillfällen för helklassdiskussion. Även om ni smarbetar i grupp så ska alla använda sin egen dator med ett eget dokument. Det är dock bara en i gruppen som skickar in sitt dokument i slutet av lektionen.\n",
    "\n",
    "$\\rightarrow$ Glöm inte att köra även frågecellerna i slutet av varje uppgift!\n",
    "\n",
    "$\\rightarrow$ köra/run= ctr+enter, symbolen $\\rhd$| högst upp till vänster i varje ruta eller i verktysfältet.\n",
    "\n",
    "$\\rightarrow$ [Lista](https://www.tutorialspoint.com/python/index.htm) med vanliga kommandon i python.\n",
    "\n",
    "För att komma igång, starta med att köra cellen nedan $\\downarrow$\n"
   ]
  },
  {
   "cell_type": "code",
   "execution_count": 1,
   "metadata": {},
   "outputs": [
    {
     "name": "stdout",
     "output_type": "stream",
     "text": [
      "Vilka är ni som ska arbeta tillsammans idag: Elev 1, Elev 2 och Elev 3\n",
      "\n",
      "\n",
      "Lycka till Elev 1, Elev 2 och Elev 3, nu är det bara att starta med uppgift 1\n"
     ]
    }
   ],
   "source": [
    "import time\n",
    "try:\n",
    "    utv[0]\n",
    "except NameError: \n",
    "    utv =[\"ej klar\",\"ej klar\",\"ej klar\", \"ej klar\"] \n",
    "    t0=time.time()\n",
    "grupp=input(\"Vilka är ni som ska arbeta tillsammans idag: \")\n",
    "\n",
    "print(f\"\\n\\nLycka till {grupp}, nu är det bara att starta med uppgift 1\")"
   ]
  },
  {
   "cell_type": "markdown",
   "metadata": {},
   "source": [
    "## uppgift 1: Kommentera koden\n",
    "\n",
    "I rutan nedan finns en okommenterad kod för hur man skulle kunna skriva en [definition](https://www.tutorialspoint.com/python/python_functions.htm) av Trapetsformeln (beviset vi arbetade med förra lektionen) i Python.\n",
    "\n",
    "Kommentera koden samt beskriv vad de olika variablerna innebär. Ni kommenterar kod i python genom att använda symbolen #. När ni är klara ta ett skärmklipp av den kommenterade koden och klistra in i [Padlet Numerisk Integration](https://padlet.com/johanna_stode/t0r8wcdi2k026lx8). Tänk på att alla i gruppen ska kunna förklarar hur ni tänkt.\n",
    "\n",
    "<br />\n",
    "<br /> \n",
    "\n",
    "\n",
    "Trapetsformeln: \n",
    "\n",
    "$$ \\int_a^b f(x)\\,dx = \\text{T}(f;h) =h\\left\\{\\frac{f(x_0)}{2}+ \\sum\\limits_{i=1}^{n-1} f(x_i) +\\frac{f(x_n)}{2}\\right\\}$$\n",
    "\n",
    "<br /> \n"
   ]
  },
  {
   "cell_type": "code",
   "execution_count": null,
   "metadata": {},
   "outputs": [],
   "source": [
    "def trapetsregel (f,a,b,n):\n",
    "    h=(b-a)/n\n",
    "    sum1=0.5*(f(a)+f(b))\n",
    "    for i in range (1,n): \n",
    "        sum1+=f(a+i*h)\n",
    "    return h*sum1\n"
   ]
  },
  {
   "cell_type": "markdown",
   "metadata": {},
   "source": [
    "Kör koden nedan $\\downarrow$"
   ]
  },
  {
   "cell_type": "code",
   "execution_count": 3,
   "metadata": {},
   "outputs": [
    {
     "name": "stdout",
     "output_type": "stream",
     "text": [
      "Svar: Elevsvar\n"
     ]
    }
   ],
   "source": [
    "if utv[0]==\"ej klar\":\n",
    "    utv[0]= input(\"Kan ni tänka något annat sätt man skulle kunna göra beräkningar med trapetsregeln i python: \")\n",
    "\n",
    "else :\n",
    "    print (f\"Svar: {utv[0]}\")\n",
    "   "
   ]
  },
  {
   "cell_type": "markdown",
   "metadata": {},
   "source": [
    "## uppgift 2: Arbeta med ett eget exempel\n",
    "\n",
    "Vi har under lektionen talat om varför  $\\int_0^{\\frac{\\pi}{2}}\\sin^p x\\,dx$ eller  $\\int_0^{\\frac{\\pi}{2}}\\cos^p x\\,dx$ är lämpligt för numerisk integration. \n",
    "\n",
    "1. Ta hjälp av något beräkningsprogram exempelvis <a href=\"https://www.symbolab.com/\">Symbolab</a> eller  <a href=\"https://www.wolframalpha.com/input/?i=integrate+sin+x%5E4+dx+from+x%3D0+to+pi%2F2\">Wolframalpha</a> och beräkna värdet  för något värde på $p$ ($p>4$) för antigen  $\\int_0^{\\frac{\\pi}{2}}\\sin^p x\\,dx$ eller  $\\int_0^{\\frac{\\pi}{2}}\\cos^p x\\,dx$ . \n",
    "\n",
    "2. Testa gärna hur värdet förändrar sig med olika värden på $p$ samt studera hur den primitiva funktionen tas fram med hjälp av programmet. \n",
    "\n",
    "3. Välj en funktion som ni ska arbeta och undersöka vidare i uppgift 3 (och även senare med Simpsons formel). \n",
    "\n",
    "Fundera över:\n",
    "\n",
    "-  Vad kan ni dra för slutsater kring hur de primitiva funktioner tas fram för olika värden på p?\n",
    "\n",
    "\n",
    "Notera:\n",
    "\n",
    "-  Det exata värdet för den funktion ni valt att arbeta med.\n",
    "\n",
    "Kör cellen nedan $\\downarrow$\n"
   ]
  },
  {
   "cell_type": "code",
   "execution_count": 5,
   "metadata": {},
   "outputs": [
    {
     "name": "stdout",
     "output_type": "stream",
     "text": [
      "Svar: Elevsvar\n"
     ]
    }
   ],
   "source": [
    "if utv[1]==\"ej klar\":\n",
    "    utv[1]=input(\"Vad händer när ni testar olika värden på p, hur förändras värdet av integralen och hur tas de primitiva funktionerna fram?    \")\n",
    "    print (f\"\\n\\nSvar: {utv[1]}\")\n",
    "    \n",
    "else :\n",
    "    print (f\"Svar: {utv[1]}\")\n",
    "    "
   ]
  },
  {
   "cell_type": "markdown",
   "metadata": {},
   "source": [
    "## uppgift 3: \n",
    "\n",
    "Koden nedan är ett exempel på hur defintionen av Trapetsregeln skulle kunna användas för att beräkna värdet av en integral. Skriv om koden så den beräknar värdet för den funktion ni valt i uppgift 2.\n",
    "\n",
    "1) Vilka värden får ni för olika $n$? \n",
    "\n",
    "2) Kan man göra koden nedan allmän för vilket $p$ som helst? \n",
    "\n",
    "3) Genomför beräkningar (manuellt) för några olika värden på $n$ genom att använda trapetsformeln nedan.\n",
    "<br /> \n",
    "<br /> \n",
    "<br /> \n",
    "$$ \\int_a^b f(x)\\,dx = \\text{T}(f;h) =h\\left\\{\\frac{f(x_0)}{2}+ \\sum\\limits_{i=1}^{n-1} f(x_i) +\\frac{f(x_n)}{2}\\right\\}=\\frac{h}{2}\\left\\{(f(x_0)+f(x_1))+(f(x_1)+f(x_2))+\\cdots+(f(x_{n-1})+f(x_n))\\right\\}$$\n",
    "<br /> \n"
   ]
  },
  {
   "cell_type": "code",
   "execution_count": 6,
   "metadata": {},
   "outputs": [
    {
     "name": "stdout",
     "output_type": "stream",
     "text": [
      "0.7853981633974483\n"
     ]
    }
   ],
   "source": [
    "import numpy as np\n",
    "\n",
    "def trapetsregel (f,a,b,n):\n",
    "    h=(b-a)/n\n",
    "    sum1=0.5*(f(a)+f(b))\n",
    "    for i in range (1,n):\n",
    "        sum1+=f(a+i*h)\n",
    "    return h*sum1\n",
    "\n",
    "\n",
    "f = lambda x :np.sin(x)**2\n",
    "area= trapetsregel (f,0,np.pi/2,2)\n",
    "print(area)"
   ]
  },
  {
   "cell_type": "markdown",
   "metadata": {},
   "source": [
    "Kör cellen nedan $\\downarrow$"
   ]
  },
  {
   "cell_type": "code",
   "execution_count": 8,
   "metadata": {},
   "outputs": [
    {
     "name": "stdout",
     "output_type": "stream",
     "text": [
      "Svar: Elevsvar\n"
     ]
    }
   ],
   "source": [
    "if utv[2]==\"ej klar\":\n",
    "    utv[2]= input(\"Vad händer när ni ändrar värdet på n? För vilket värde tycker ni approximationen är god, hur vet man att när en approximation är tillräckligt bra?    \")\n",
    "    print (f\"\\n\\nSvar: {utv[2]}\")\n",
    "\n",
    "else :\n",
    "    print (f\"Svar: {utv[2]}\")"
   ]
  },
  {
   "cell_type": "markdown",
   "metadata": {},
   "source": [
    "## uppgift 4 Reflektionsfrågor\n",
    "\n",
    "Diskutera följande frågor:\n",
    "\n",
    "1. Tycker ni det stämmer att programmering är ett bra hjälpmedel när man gör beräkningar med Trapetsregeln? Motivera.\n",
    "\n",
    "\n",
    "\n",
    "2. Vad måste man känna till för att kunna använda sig av trapetsreglen? Vad behöver man förstå?\n",
    "\n",
    "Kör cellen nedan $\\downarrow$"
   ]
  },
  {
   "cell_type": "code",
   "execution_count": null,
   "metadata": {},
   "outputs": [],
   "source": [
    "if utv[3]==\"ej klar\":\n",
    "    utv[3]= input(\"En av era vänner har varit sjuk och ber om hjälp med en lista över det som är viktigast att lärar sig för att förstå området vi just arbetat med, vilka punkter skulle ni ha med på den listan?    \")\n",
    "    print (f\"\\n\\nSvar: {utv[3]}\")\n",
    "\n",
    "else :\n",
    "    print (f\"Svar: {utv[3]}\")"
   ]
  },
  {
   "cell_type": "markdown",
   "metadata": {},
   "source": [
    "## Uppgift 5 Grafisk represenation\n",
    "\n",
    "1. Kommentera koden nedan.\n",
    "\n",
    "2. Lägg till er funktion\n",
    "\n",
    "3. Lägg till så att även värdet av integralen visas i bilden\n",
    "\n",
    "4. Hur skulle man kunna förbättra koden eller vilka tilläg skulle man kunna göra?"
   ]
  },
  {
   "cell_type": "code",
   "execution_count": null,
   "metadata": {},
   "outputs": [],
   "source": [
    "import numpy as np\n",
    "import matplotlib.pyplot as plt\n",
    "\n",
    "f = lambda x : np.sin(x) **5\n",
    "\n",
    "a1 = 0\n",
    "b1 = 2\n",
    "n1 = 4\n",
    "farg=0\n",
    "\n",
    "x = np.linspace(a1,b1,n1+1)\n",
    "\n",
    "yfarg=['y','b','g','c','m']\n",
    "\n",
    "y = f(x)\n",
    "xg = np.linspace(a1,b1,100)\n",
    "yg = f(xg)\n",
    "plt.plot(xg,yg)\n",
    "\n",
    "for i in range(n1):\n",
    "    farg = farg+1\n",
    "    if farg == 5:\n",
    "        farg=0\n",
    "        \n",
    "    xp = [x[i],x[i],x[i+1],x[i+1]]\n",
    "    yp = [0,f(x[i]),f(x[i+1]),0]\n",
    "\n",
    "    plt.fill(xp,yp,yfarg[farg],edgecolor='b',alpha=0.1)\n",
    "\n",
    "plt.title(\"Numerisk Integration\")\n",
    "plt.savefig('plot')\n"
   ]
  },
  {
   "cell_type": "markdown",
   "metadata": {},
   "source": [
    "## uppgift 6: Exit ticket\n",
    "\n",
    "1. Kör koden nedan $\\downarrow$\n",
    "2. Spara dokumenetet som en pdf- fil \n",
    "3. Lämna in\n"
   ]
  },
  {
   "cell_type": "code",
   "execution_count": null,
   "metadata": {},
   "outputs": [],
   "source": [
    "print(f\"{grupp} har svarat:\\n\")\n",
    "t1=time.time()\n",
    "tid=(t1-t0)/60\n",
    "for i in range (0,4):\n",
    "    print(f\"Fråga {i+1}: {utv[i]}\")\n",
    "print(f\"\\n\\nHoppas ni tycker det varit {round(tid)} välinvensterande minuter av ert liv.\\n\\nBra jobbat!\")"
   ]
  },
  {
   "cell_type": "code",
   "execution_count": null,
   "metadata": {},
   "outputs": [],
   "source": []
  }
 ],
 "metadata": {
  "kernelspec": {
   "display_name": "Python 3",
   "language": "python",
   "name": "python3"
  },
  "language_info": {
   "codemirror_mode": {
    "name": "ipython",
    "version": 3
   },
   "file_extension": ".py",
   "mimetype": "text/x-python",
   "name": "python",
   "nbconvert_exporter": "python",
   "pygments_lexer": "ipython3",
   "version": "3.8.3"
  }
 },
 "nbformat": 4,
 "nbformat_minor": 4
}
