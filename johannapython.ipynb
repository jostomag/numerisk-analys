{
 "cells": [
  {
   "cell_type": "code",
   "execution_count": 1,
   "metadata": {},
   "outputs": [
    {
     "name": "stdout",
     "output_type": "stream",
     "text": [
      "tack pappa\n"
     ]
    }
   ],
   "source": [
    "print('tack pappa')"
   ]
  },
  {
   "cell_type": "code",
   "execution_count": 2,
   "metadata": {},
   "outputs": [
    {
     "data": {
      "image/png": "[encoded data removed]",
      "text/plain": [
       "<Figure size 432x288 with 1 Axes>"
      ]
     },
     "metadata": {
      "needs_background": "light"
     },
     "output_type": "display_data"
    }
   ],
   "source": [
    "import numpy as np\n",
    "import matplotlib.pyplot as plt\n",
    "#invariabler\n",
    "a=0\n",
    "b=np.pi/2\n",
    "#vektor\n",
    "X = np.linspace(-2,2,60)\n",
    "#definition av f(x)\n",
    "f=lambda x:np.sin(x)**7\n",
    "#Plottar funktionskurvan\n",
    "y=f(X)\n",
    "plt.plot(X,y, color='red')\n",
    "#t=f(b)\n",
    "#print (t)\n",
    "#fyllning fält\n",
    "plt.fill_between([a,b],[f(a),f(b)],'y', alpha=0.2)\n",
    "plt.ylim([0,2])\n",
    "plt.xlim([0,2])\n",
    "plt.title(f\"Arean är {round((b-a)/2*(f(a)+f(b)),4)}\")\n",
    "plt.show()\n",
    "#Areaberäkning\n",
    "#Arean=(b-a)/2*(f(a)+f(b))\n",
    "#print (Arean)\n"
   ]
  },
  {
   "cell_type": "code",
   "execution_count": null,
   "metadata": {},
   "outputs": [],
   "source": []
  }
 ],
 "metadata": {
  "kernelspec": {
   "display_name": "Python 3",
   "language": "python",
   "name": "python3"
  },
  "language_info": {
   "codemirror_mode": {
    "name": "ipython",
    "version": 3
   },
   "file_extension": ".py",
   "mimetype": "text/x-python",
   "name": "python",
   "nbconvert_exporter": "python",
   "pygments_lexer": "ipython3",
   "version": "3.8.3"
  }
 },
 "nbformat": 4,
 "nbformat_minor": 4
}
