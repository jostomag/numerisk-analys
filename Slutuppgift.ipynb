{
 "cells": [
  {
   "cell_type": "markdown",
   "metadata": {},
   "source": [
    "# 1. Uppgift: Vilket koldioxidutsläpp genererar en livslängd på 72 år?\n",
    "\n",
    "Er uppgift är att beräkna det totala koldioxidutsläppet för en individ som levt mellan 1945-2017 med hjälp av Trapetsregeln och Simpsons Regel. Till er hjälp har ni 25 st mätvärden som anger utsläppshastighet per capita/år (1945, 1948,1951...2017). Ni har även en grafisk representation av dessa mätvärden. Ni startar med det land ni blivit tilldelade som grupp och avslutar med att göra beräkningar för alla länderna. Tänk på att även om arbetet sker i grupp så är det av stor vikt att alla förstår vad ni gör eftersom gruppens medlemmar indivduellt kommer göra en inspelning där man ska kunna förklara gruppens dokument. Under rubriken \"2. Mätdata\" finns den information ni behöver om länderna Albanien, Brunei, Finland, Nordkorea, Sverige och USA.\n",
    "\n",
    "### Gruppen ska tillsammans:\n",
    "\n",
    "$\\surd$Göra beräkningar för minst tre olika värden på $n$ ($n_1,n_2$ och $n_3$), tänk på att det ska gå att genomföra beräkningarna för samma $n_1-n_3$för både Trapetsregeln och Simpsons regel. $n_3$ ska var det maximala värdet som är möjligt på $n$ utifrån de mätvärden ni har tillgång till.\n",
    "  \n",
    "$\\bullet$ Innan ni gör beräkningarna uppskatta utifrån den grafiska representationen av mätvärdena hur ni tror uppskattningen kommer bli för $n_1-n_3$ i förhållande till det faktiska värdet. Rita gärna i grafen. Vad är $h$, $a$ och $b$?<br/><br/>\n",
    "$\\bullet$ Gör beräkningarna för $n_1$ och $n_2$, spara era anteckningar så ni kan bifoga dem till inlämningen.<br/><br/>\n",
    "$\\bullet$Implementera i Python för värdet på $n_3$. Ni får givetvis gärna göra så programmet kan köra för olika värden på $n$ men det är inget krav. Återanvänd gärna kod från uppgifterna vi arbetat med i arbetsboken om Trapetsregeln och Simpsons Regel.\n",
    "    \n",
    "$\\surd$Gör en jämförelse mellan (åtminstonde) länderna som finns under rubrikerna 2.1-2.6 för $n_3$. Ni får gärna välja egna länder som ni tycker känns relevanta eller intressanta istället för dessa länder (men då måste ni plocka fram mätdata själva via \n",
    "[Our World in Data](https://ourworldindata.org/co2/country/sweden?country=~SWE).\n",
    "\n",
    "$\\surd$ Presentera era resultat och beräkningar på ett tydligt sätt.\n",
    "\n",
    "\n",
    "För den som är lite ihärdig och nyfiken finns möjligheter att räkna ut ett \"facit\" via [Our World in Data](https://ourworldindata.org/co2/country/sweden?country=~SWE)\n",
    "\n",
    "\n",
    "### Individuellt:\n",
    "Göra en inspelning där du förklarar det resultat och reflektioner ni som grupp presenterar i ert dokument.Tänk på att:<br/><br/>\n",
    "$\\surd$ Förklara varför ni valt de värden ni valt på $n_1-n_3$ och vad de olika variablerna $h$,$a$ och $b$ betyder i era beräkningar.<br/><br/>\n",
    "$\\surd$ Motivera uppskattningen av resulaten med hjälp av grafen utifrån de faktsika värdena.<br/><br/>\n",
    "$\\surd$ Motivera och förklara hur ni gjort olika beräkningar.<br/><br/>\n",
    "$\\surd$ Förklara hur koden i Python fungerar.<br/><br/>\n",
    "$\\surd$ Finns det sätt du kan tänka på som skulle kunna förbättre er kod eller utveckla den.<br/><br/>\n",
    "$\\surd$ Övriga synpunkter eller ideer om utveckling av beräkningarna.\n",
    "\n",
    "\n",
    "\n",
    "\n"
   ]
  },
  {
   "cell_type": "markdown",
   "metadata": {},
   "source": [
    "# 2. Mätdata: Albanien, Brunei, Finland, Nordkorea, Sverige och USA."
   ]
  },
  {
   "cell_type": "markdown",
   "metadata": {},
   "source": [
    "<img src=\"alla1.png\" width=\"1000\">\n"
   ]
  },
  {
   "cell_type": "code",
   "execution_count": 29,
   "metadata": {},
   "outputs": [
    {
     "name": "stdout",
     "output_type": "stream",
     "text": [
      "    Albanien  Brunei  Finland  Nordkorea  Sverige  USA\n",
      "0       0.10     NaN      NaN        NaN      NaN  NaN\n",
      "1       0.57     NaN      NaN        NaN      NaN  NaN\n",
      "2       0.31     NaN      NaN        NaN      NaN  NaN\n",
      "3       0.36     NaN      NaN        NaN      NaN  NaN\n",
      "4       1.00     NaN      NaN        NaN      NaN  NaN\n",
      "5       1.24     NaN      NaN        NaN      NaN  NaN\n",
      "6       1.16     NaN      NaN        NaN      NaN  NaN\n",
      "7       1.31     NaN      NaN        NaN      NaN  NaN\n",
      "8       1.54     NaN      NaN        NaN      NaN  NaN\n",
      "9       2.50     NaN      NaN        NaN      NaN  NaN\n",
      "10      1.90     NaN      NaN        NaN      NaN  NaN\n",
      "11      2.52     NaN      NaN        NaN      NaN  NaN\n",
      "12      2.68     NaN      NaN        NaN      NaN  NaN\n",
      "13      2.69     NaN      NaN        NaN      NaN  NaN\n",
      "14      2.38     NaN      NaN        NaN      NaN  NaN\n",
      "15      1.68     NaN      NaN        NaN      NaN  NaN\n",
      "16      0.73     NaN      NaN        NaN      NaN  NaN\n",
      "17      0.65     NaN      NaN        NaN      NaN  NaN\n",
      "18      0.96     NaN      NaN        NaN      NaN  NaN\n",
      "19      1.20     NaN      NaN        NaN      NaN  NaN\n",
      "20      1.38     NaN      NaN        NaN      NaN  NaN\n",
      "21      1.46     NaN      NaN        NaN      NaN  NaN\n",
      "22      1.79     NaN      NaN        NaN      NaN  NaN\n",
      "23      1.89     NaN      NaN        NaN      NaN  NaN\n",
      "24      1.61     NaN      NaN        NaN      NaN  NaN\n",
      "\n",
      "\n",
      "\n",
      "Ett litet tips! Glöm inte att första elementet i en lista är \"0\", så första mätvärdet (0) för Albaninen är 0.1\n"
     ]
    }
   ],
   "source": [
    "import pandas as pd\n",
    "import numpy as np\n",
    "\n",
    "#om man inte vill använda alla kolumner från excelfilen går det att använda usecols och välja kolumner som ska importeras.\n",
    "cols=[1,2,3,4,5,6] \n",
    "\n",
    "#importerar data från excel filen lander och usecol anger vilka kolumner som ska visas\n",
    "df = pd.read_excel (r'lander.xlsx', usecols=cols)\n",
    "print (df)\n",
    "\n",
    "#Listor med mätvärden för de olika länderna\n",
    "\n",
    "Alblista=df['Albanien'] \n",
    "Brulista=df['Brunei'] \n",
    "Finlista=df['Finland'] \n",
    "Norlista=df['Nordkorea'] \n",
    "Svelista=df['Sverige'] \n",
    "USAlista=df['USA'] \n",
    "\n",
    "#Tänk på att första elementet i en lista är 0\n",
    "print (f'\\n\\n\\nEtt litet tips! Glöm inte att första elementet i en lista är \"0\", så första mätvärdet (0) för Albaninen är {Alblista[0]}') .\n"
   ]
  },
  {
   "cell_type": "markdown",
   "metadata": {},
   "source": [
    "## 2.1 Albanien"
   ]
  },
  {
   "cell_type": "markdown",
   "metadata": {},
   "source": [
    "<img src=\"alb.png\" width=\"500\">"
   ]
  },
  {
   "cell_type": "code",
   "execution_count": 23,
   "metadata": {},
   "outputs": [
    {
     "name": "stdout",
     "output_type": "stream",
     "text": [
      "0     0.10\n",
      "1     0.57\n",
      "2     0.31\n",
      "3     0.36\n",
      "4     1.00\n",
      "5     1.24\n",
      "6     1.16\n",
      "7     1.31\n",
      "8     1.54\n",
      "9     2.50\n",
      "10    1.90\n",
      "11    2.52\n",
      "12    2.68\n",
      "13    2.69\n",
      "14    2.38\n",
      "15    1.68\n",
      "16    0.73\n",
      "17    0.65\n",
      "18    0.96\n",
      "19    1.20\n",
      "20    1.38\n",
      "21    1.46\n",
      "22    1.79\n",
      "23    1.89\n",
      "24    1.61\n",
      "Name: Albanien, dtype: float64\n"
     ]
    }
   ],
   "source": [
    "print (Alblista)"
   ]
  },
  {
   "cell_type": "markdown",
   "metadata": {},
   "source": [
    "## 2.2 Brunei"
   ]
  },
  {
   "cell_type": "markdown",
   "metadata": {},
   "source": [
    "<img src=\"brunei.png\" width=\"500\">"
   ]
  },
  {
   "cell_type": "code",
   "execution_count": 34,
   "metadata": {},
   "outputs": [
    {
     "name": "stdout",
     "output_type": "stream",
     "text": [
      "0    NaN\n",
      "1    NaN\n",
      "2    NaN\n",
      "3    NaN\n",
      "4    NaN\n",
      "5    NaN\n",
      "6    NaN\n",
      "7    NaN\n",
      "8    NaN\n",
      "9    NaN\n",
      "10   NaN\n",
      "11   NaN\n",
      "12   NaN\n",
      "13   NaN\n",
      "14   NaN\n",
      "15   NaN\n",
      "16   NaN\n",
      "17   NaN\n",
      "18   NaN\n",
      "19   NaN\n",
      "20   NaN\n",
      "21   NaN\n",
      "22   NaN\n",
      "23   NaN\n",
      "24   NaN\n",
      "Name: Brunei, dtype: float64\n"
     ]
    }
   ],
   "source": [
    "print (Brulista)"
   ]
  },
  {
   "cell_type": "markdown",
   "metadata": {},
   "source": [
    "## 2.3 Finland"
   ]
  },
  {
   "cell_type": "markdown",
   "metadata": {},
   "source": [
    "<img src=\"fin2.png\" width=\"500\">"
   ]
  },
  {
   "cell_type": "code",
   "execution_count": 30,
   "metadata": {},
   "outputs": [
    {
     "name": "stdout",
     "output_type": "stream",
     "text": [
      "0    NaN\n",
      "1    NaN\n",
      "2    NaN\n",
      "3    NaN\n",
      "4    NaN\n",
      "5    NaN\n",
      "6    NaN\n",
      "7    NaN\n",
      "8    NaN\n",
      "9    NaN\n",
      "10   NaN\n",
      "11   NaN\n",
      "12   NaN\n",
      "13   NaN\n",
      "14   NaN\n",
      "15   NaN\n",
      "16   NaN\n",
      "17   NaN\n",
      "18   NaN\n",
      "19   NaN\n",
      "20   NaN\n",
      "21   NaN\n",
      "22   NaN\n",
      "23   NaN\n",
      "24   NaN\n",
      "Name: Finland, dtype: float64\n"
     ]
    }
   ],
   "source": [
    "print (Finlista)"
   ]
  },
  {
   "cell_type": "markdown",
   "metadata": {},
   "source": [
    "## 2.4 Nordkorea"
   ]
  },
  {
   "cell_type": "markdown",
   "metadata": {},
   "source": [
    "<img src=\"nord.png\" width=\"500\">"
   ]
  },
  {
   "cell_type": "code",
   "execution_count": 31,
   "metadata": {},
   "outputs": [
    {
     "name": "stdout",
     "output_type": "stream",
     "text": [
      "0    NaN\n",
      "1    NaN\n",
      "2    NaN\n",
      "3    NaN\n",
      "4    NaN\n",
      "5    NaN\n",
      "6    NaN\n",
      "7    NaN\n",
      "8    NaN\n",
      "9    NaN\n",
      "10   NaN\n",
      "11   NaN\n",
      "12   NaN\n",
      "13   NaN\n",
      "14   NaN\n",
      "15   NaN\n",
      "16   NaN\n",
      "17   NaN\n",
      "18   NaN\n",
      "19   NaN\n",
      "20   NaN\n",
      "21   NaN\n",
      "22   NaN\n",
      "23   NaN\n",
      "24   NaN\n",
      "Name: Nordkorea, dtype: float64\n"
     ]
    }
   ],
   "source": [
    "print (Norlista)"
   ]
  },
  {
   "cell_type": "markdown",
   "metadata": {},
   "source": [
    "## 2.5 Sverige"
   ]
  },
  {
   "cell_type": "markdown",
   "metadata": {},
   "source": [
    "<img src=\"sverige.png\" width=\"500\">"
   ]
  },
  {
   "cell_type": "code",
   "execution_count": 32,
   "metadata": {},
   "outputs": [
    {
     "name": "stdout",
     "output_type": "stream",
     "text": [
      "0    NaN\n",
      "1    NaN\n",
      "2    NaN\n",
      "3    NaN\n",
      "4    NaN\n",
      "5    NaN\n",
      "6    NaN\n",
      "7    NaN\n",
      "8    NaN\n",
      "9    NaN\n",
      "10   NaN\n",
      "11   NaN\n",
      "12   NaN\n",
      "13   NaN\n",
      "14   NaN\n",
      "15   NaN\n",
      "16   NaN\n",
      "17   NaN\n",
      "18   NaN\n",
      "19   NaN\n",
      "20   NaN\n",
      "21   NaN\n",
      "22   NaN\n",
      "23   NaN\n",
      "24   NaN\n",
      "Name: Sverige, dtype: float64\n"
     ]
    }
   ],
   "source": [
    "print (Svelista)"
   ]
  },
  {
   "cell_type": "markdown",
   "metadata": {},
   "source": [
    "## 2.6 USA"
   ]
  },
  {
   "cell_type": "markdown",
   "metadata": {},
   "source": [
    "<img src=\"usa.png\" width=\"500\">"
   ]
  },
  {
   "cell_type": "code",
   "execution_count": 33,
   "metadata": {},
   "outputs": [
    {
     "name": "stdout",
     "output_type": "stream",
     "text": [
      "0    NaN\n",
      "1    NaN\n",
      "2    NaN\n",
      "3    NaN\n",
      "4    NaN\n",
      "5    NaN\n",
      "6    NaN\n",
      "7    NaN\n",
      "8    NaN\n",
      "9    NaN\n",
      "10   NaN\n",
      "11   NaN\n",
      "12   NaN\n",
      "13   NaN\n",
      "14   NaN\n",
      "15   NaN\n",
      "16   NaN\n",
      "17   NaN\n",
      "18   NaN\n",
      "19   NaN\n",
      "20   NaN\n",
      "21   NaN\n",
      "22   NaN\n",
      "23   NaN\n",
      "24   NaN\n",
      "Name: USA, dtype: float64\n"
     ]
    }
   ],
   "source": [
    "print (USAlista)"
   ]
  },
  {
   "cell_type": "code",
   "execution_count": null,
   "metadata": {},
   "outputs": [],
   "source": []
  }
 ],
 "metadata": {
  "kernelspec": {
   "display_name": "Python 3",
   "language": "python",
   "name": "python3"
  },
  "language_info": {
   "codemirror_mode": {
    "name": "ipython",
    "version": 3
   },
   "file_extension": ".py",
   "mimetype": "text/x-python",
   "name": "python",
   "nbconvert_exporter": "python",
   "pygments_lexer": "ipython3",
   "version": "3.8.3"
  }
 },
 "nbformat": 4,
 "nbformat_minor": 4
}
