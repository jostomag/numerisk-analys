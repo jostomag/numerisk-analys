{
 "cells": [
  {
   "cell_type": "markdown",
   "metadata": {},
   "source": [
    "# 1. Uppgift: Vilket koldioxidutsläpp genererar en livslängd på 72 år?\n",
    "\n",
    "Er uppgift är att beräkna det totala koldioxidutsläppet för en individ som levt mellan 1945-2017 med hjälp av Trapetsregeln och Simpsons Regel. Till er hjälp har ni 25 st mätvärden som anger utsläppshastighet per capita/år (1945, 1948,1951...2017). Ni har även en grafisk representation av dessa mätvärden. Ni startar med det land ni blivit tilldelade som grupp och avslutar med att göra beräkningar för alla länderna. Tänk på att även om arbetet sker i grupp så är det av stor vikt att alla förstår vad ni gör eftersom gruppens medlemmar indivduellt kommer göra en inspelning där man ska kunna förklara gruppens dokument. Under rubriken \"2. Mätdata\" finns den information ni behöver om länderna Albanien, Brunei, Finland, Nordkorea, Sverige och USA.\n",
    "\n",
    "### Gruppen ska tillsammans:\n",
    "\n",
    "$\\surd$Göra beräkningar för minst tre olika värden på $n$ ($n_1,n_2$ och $n_3$), tänk på att det ska gå att genomföra beräkningarna för samma $n_1-n_3$för både Trapetsregeln och Simpsons regel. $n_3$ ska var det maximala värdet som är möjligt på $n$ utifrån de mätvärden ni har tillgång till.\n",
    "  \n",
    "$\\bullet$ Innan ni gör beräkningarna uppskatta utifrån den grafiska representationen av de diskreta mätvärdena hur ni tror uppskattningen kommer bli för $n_1-n_3$ i förhållande till det faktiska värdet. Rita gärna i grafen. Vad är $h$, $a$ och $b$?<br/><br/>\n",
    "$\\bullet$ Gör beräkningarna för $n_1$ och $n_2$, spara era anteckningar så ni kan bifoga dem till inlämningen<br/><br/>\n",
    "$\\bullet$Implementera i Python för värdet på $n_3$. Ni får givetvis gärna göra så programmet kan köra för olika värden på $n$ men det är inget krav. Återanvänd gärna kod från uppgifterna vi arbetat med i arbetsboken om Trapetsregeln och Simpsons Regel.\n",
    "    \n",
    "$\\surd$Gör en jämförelse mellan (åtminstonde) länderna som finns under rubrikerna 2.1-2.6 för $n_3$. Ni får gärna välja egna länder som ni tycker känns relevanta eller intressanta istället för dessa länder (men då måste ni plocka fram mätdata själva via \n",
    "[Our World in Data](https://ourworldindata.org/co2/country/sweden?country=~SWE).\n",
    "\n",
    "$\\surd$ Presentera era resultat och beräkningar på ett tydligt sätt.\n",
    "\n",
    "\n",
    "För den som är lite ihärdig och nyfiken finns möjligheter att räkna ut ett \"facit\" via [Our World in Data](https://ourworldindata.org/co2/country/sweden?country=~SWE)\n",
    "\n",
    "\n",
    "### Individuellt:\n",
    "Göra en inspelning där du förklarar det resultat och reflektioner ni som grupp presenterar i ert dokument.Tänk på att:<br/><br/>\n",
    "$\\surd$ Förklara varför ni valt de värden ni valt på $n_1-n_3$ och vad de olika variablerna $h$,$a$ och $b$ betyder i era beräkningar<br/><br/>\n",
    "$\\surd$ Motivera uppskattningen av resulaten med hjälp av grafen utifrån de faktsika värdena.<br/><br/>\n",
    "$\\surd$ Motivera och förklara hur ni gjort olika beräkningar<br/><br/>\n",
    "$\\surd$ Förklara hur koden i Python fungerar<br/><br/>\n",
    "$\\surd$ Finns det sätt du kan tänka på som skulle kunna förbättre er kod eller utveckla den.<br/><br/>\n",
    "$\\surd$ Övriga synpunkter eller ideer om utveckling av beräkningarna.\n",
    "\n",
    "\n",
    "\n",
    "\n"
   ]
  },
  {
   "cell_type": "markdown",
   "metadata": {},
   "source": [
    "# 2. Mätdata: Albanien, Brunei, Finland, Nordkorea, Sverige och USA."
   ]
  },
  {
   "cell_type": "markdown",
   "metadata": {},
   "source": [
    "<img src=\"alla1.png\" width=\"1000\">\n"
   ]
  },
  {
   "cell_type": "markdown",
   "metadata": {},
   "source": [
    "## 2.1 Albanien"
   ]
  },
  {
   "cell_type": "code",
   "execution_count": null,
   "metadata": {},
   "outputs": [],
   "source": [
    "#Utsläppshastighet av co2 per capita/år. \n",
    "#Data från 1945,1948,1951...2017\n",
    "\n",
    "Albanien=[]#här ska mätvärden stå är inte klar med det ännu\n"
   ]
  },
  {
   "cell_type": "markdown",
   "metadata": {},
   "source": [
    "<img src=\"alb.png\" width=\"500\">"
   ]
  },
  {
   "cell_type": "markdown",
   "metadata": {},
   "source": [
    "## 2.2 Brunei"
   ]
  },
  {
   "cell_type": "code",
   "execution_count": null,
   "metadata": {},
   "outputs": [],
   "source": [
    "#Varje mätvärde representerar Utsläppshastighet av co2 per capita för ett år dvs utsläpp/år \n",
    "\n",
    "#Från 1945-2017 \n",
    "Brunei=[]"
   ]
  },
  {
   "cell_type": "markdown",
   "metadata": {},
   "source": [
    "<img src=\"brunei.png\" width=\"500\">"
   ]
  },
  {
   "cell_type": "markdown",
   "metadata": {},
   "source": [
    "## 2.3 Finland"
   ]
  },
  {
   "cell_type": "code",
   "execution_count": null,
   "metadata": {},
   "outputs": [],
   "source": [
    "#Varje mätvärde representerar Utsläppshastighet av co2 per capita för ett år dvs utsläpp/år \n",
    "\n",
    "#Från 1945-2017\n",
    "\n",
    "Finland =[]"
   ]
  },
  {
   "cell_type": "markdown",
   "metadata": {},
   "source": [
    "<img src=\"fin2.png\" width=\"500\">"
   ]
  },
  {
   "cell_type": "markdown",
   "metadata": {},
   "source": [
    "## 2.4 Nordkorea"
   ]
  },
  {
   "cell_type": "code",
   "execution_count": null,
   "metadata": {},
   "outputs": [],
   "source": [
    "#Varje mätvärde representerar Utsläppshastighet av co2 per capita för ett år dvs utsläpp/år \n",
    "\n",
    "#Från 1945-2017 \n",
    "Nordkorea =[]"
   ]
  },
  {
   "cell_type": "markdown",
   "metadata": {},
   "source": [
    "<img src=\"nord.png\" width=\"500\">"
   ]
  },
  {
   "cell_type": "markdown",
   "metadata": {},
   "source": [
    "## 2.5 Sverige"
   ]
  },
  {
   "cell_type": "code",
   "execution_count": null,
   "metadata": {},
   "outputs": [],
   "source": [
    "#Varje mätvärde representerar Utsläppshastighet av co2 per capita för ett år dvs utsläpp/år \n",
    "\n",
    "#Från 1945-2017 \n",
    "Sverige =[]"
   ]
  },
  {
   "cell_type": "markdown",
   "metadata": {},
   "source": [
    "<img src=\"sverige.png\" width=\"500\">"
   ]
  },
  {
   "cell_type": "markdown",
   "metadata": {},
   "source": [
    "## 2.6 Nordkorea"
   ]
  },
  {
   "cell_type": "code",
   "execution_count": null,
   "metadata": {},
   "outputs": [],
   "source": [
    "#Varje mätvärde representerar Utsläppshastighet av co2 per capita för ett år dvs utsläpp/år \n",
    "\n",
    "#Från 1945-2017 \n",
    "\n",
    "USA=[]"
   ]
  },
  {
   "cell_type": "markdown",
   "metadata": {},
   "source": [
    "<img src=\"usa.png\" width=\"500\">"
   ]
  },
  {
   "cell_type": "code",
   "execution_count": null,
   "metadata": {},
   "outputs": [],
   "source": []
  }
 ],
 "metadata": {
  "kernelspec": {
   "display_name": "Python 3",
   "language": "python",
   "name": "python3"
  },
  "language_info": {
   "codemirror_mode": {
    "name": "ipython",
    "version": 3
   },
   "file_extension": ".py",
   "mimetype": "text/x-python",
   "name": "python",
   "nbconvert_exporter": "python",
   "pygments_lexer": "ipython3",
   "version": "3.8.3"
  }
 },
 "nbformat": 4,
 "nbformat_minor": 4
}
