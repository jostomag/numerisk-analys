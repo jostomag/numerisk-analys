{
 "cells": [
  {
   "cell_type": "markdown",
   "metadata": {},
   "source": [
    "# Bilaga 1 Pythonkod till alla diagram och definitioner"
   ]
  },
  {
   "cell_type": "code",
   "execution_count": 49,
   "metadata": {},
   "outputs": [
    {
     "data": {
      "image/png": "[encoded data removed]",
      "text/plain": [
       "<Figure size 432x288 with 1 Axes>"
      ]
     },
     "metadata": {
      "needs_background": "light"
     },
     "output_type": "display_data"
    }
   ],
   "source": [
    "import numpy as np\n",
    "import matplotlib.pyplot as plt\n",
    "#definera funktionen får ej def att fungera så fick ta lamda\n",
    "f = lambda x :np.sin(x)**8\n",
    "#invaraiabler\n",
    "a1 = 0\n",
    "b1 = np.pi/2\n",
    "n1 = 5\n",
    "farg=0\n",
    "#vektorer\n",
    "x = np.linspace(a1,b1,n1+1)\n",
    "#n+1 element\n",
    "yfarg=['y','b','g','c','m']\n",
    "#fem olika färger, första färgen är blå\n",
    "#Plotta grafen av funktionen\n",
    "y = f(x)\n",
    "xg = np.linspace(a1,b1,100)\n",
    "yg = f(xg)\n",
    "plt.plot(xg,yg)\n",
    "#Här skapas fyllda trapetsbitarna\n",
    "for i in range(n1):\n",
    " farg = farg+1\n",
    "  #första delen väljer färg mellan de fem i vektorn yfarg\n",
    " if farg == 5:\n",
    "   farg=0\n",
    " \n",
    " xp = [x[i],x[i],x[i+1],x[i+1]]\n",
    " #tar element i och i+1 och får de fyra hörnpunkter utifrån x koordinater. vektor i en vektor. Jag hämtar i x[i] från vektorn x elementet i, det blir första elementet i nya vektorn.\n",
    " yp = [0,f(x[i]),f(x[i+1]),0]\n",
    " # 4 koordinater f(x). 0 är eftersom fyller mot axeln y=0\n",
    " plt.fill(xp,yp,yfarg[farg],edgecolor='b',alpha=0.1)#varjetrapetsfår en egen färg\n",
    " #print (xp)\n",
    " #print (yp)\n",
    "plt.title(\"Numerisk Integration\")\n",
    "plt.savefig('plot')\n"
   ]
  },
  {
   "cell_type": "code",
   "execution_count": 76,
   "metadata": {},
   "outputs": [
    {
     "data": {
      "image/png": "[encoded data removed]",
      "text/plain": [
       "<Figure size 432x288 with 1 Axes>"
      ]
     },
     "metadata": {
      "needs_background": "light"
     },
     "output_type": "display_data"
    }
   ],
   "source": [
    "import numpy as np\n",
    "import matplotlib.pyplot as plt\n",
    "a=0\n",
    "b=np.pi/2\n",
    "X = np.linspace(a,b,60)\n",
    "#definition av f(x)\n",
    "f=lambda x:np.sin(x)**7\n",
    "#Plottar funktionskurvan\n",
    "y=f(X)\n",
    "plt.plot(X,y, color='red')\n",
    "x0=0\n",
    "x1=0\n",
    "x2=0\n",
    "n=2\n",
    "h=(b-a)/(2*n)\n",
    "f_0=0\n",
    "f_1=0\n",
    "f_2=0\n",
    "for i in range (0,n):\n",
    "    x0=a+i*2*h\n",
    "    x1=(a+h)+i*2*h\n",
    "    x2=(a+2*h)+i*2*h\n",
    "    f_0=f(x0)\n",
    "    f_1=f(x1)\n",
    "    f_2=f(x2)\n",
    "    g=lambda z:f_0+((f_1-f_0)/h)*(z-x0)+((f_2+f_0-2*f_1)/(2*h**2))*(z-x0)*(z-x1)\n",
    "    T=np.linspace(x0,x1)\n",
    "    d=g(T)\n",
    "    plt.plot(T,d,color='blue')\n",
    "    T=np.linspace(x1,x2)\n",
    "    d=g(T)\n",
    "    plt.plot(T,d,color='blue')\n",
    "plt.savefig(\"plot.png\")\n"
   ]
  },
  {
   "cell_type": "code",
   "execution_count": 106,
   "metadata": {},
   "outputs": [
    {
     "name": "stdout",
     "output_type": "stream",
     "text": [
      "0.4571428571428575\n"
     ]
    }
   ],
   "source": [
    "import numpy as np\n",
    "#obs!tänk på att n är antal intervall dvs 2*n delintervall\n",
    "def simpson(f, a, b, n):\n",
    " h = (b - a) /(2*n)\n",
    " s = f(a) + f(b)\n",
    " for i in range(1, 2*n,2):\n",
    "     s += 4 * f(a + i * h)\n",
    " for i in range(2, 2*n-1, 2):\n",
    "     s += 2 * f(a + i * h)\n",
    " return s * h / 3\n",
    "p=7\n",
    "d=200\n",
    "f=lambda x:np.sin(x)**p\n",
    "area=simpson(f,0,np.pi/2,d)\n",
    "print(area)\n"
   ]
  },
  {
   "cell_type": "code",
   "execution_count": 107,
   "metadata": {},
   "outputs": [
    {
     "name": "stdout",
     "output_type": "stream",
     "text": [
      "0.45714285714285713\n"
     ]
    }
   ],
   "source": [
    "import numpy as np\n",
    "\n",
    "def trapetsregel (f,a,b,n):\n",
    "    h=(b-a)/n\n",
    "    sum1=0.5*(f(a)+f(b))\n",
    "    for i in range (1,n):\n",
    "        sum1+=f(a+i*h)\n",
    "    return h*sum1\n",
    "f = lambda x :np.sin(x)**p\n",
    "area= trapetsregel (f,0,np.pi/2,d)\n",
    "print(area)\n"
   ]
  },
  {
   "cell_type": "code",
   "execution_count": 28,
   "metadata": {},
   "outputs": [
    {
     "ename": "IndentationError",
     "evalue": "unindent does not match any outer indentation level (<tokenize>, line 27)",
     "output_type": "error",
     "traceback": [
      "\u001b[1;36m  File \u001b[1;32m\"<tokenize>\"\u001b[1;36m, line \u001b[1;32m27\u001b[0m\n\u001b[1;33m    farg=0\u001b[0m\n\u001b[1;37m    ^\u001b[0m\n\u001b[1;31mIndentationError\u001b[0m\u001b[1;31m:\u001b[0m unindent does not match any outer indentation level\n"
     ]
    }
   ],
   "source": [
    "import numpy as np\n",
    "import matplotlib.pyplot as plt\n",
    " \n",
    "#definera funktionen får ej def att fungera så fick ta lamda\n",
    "f = lambda x :np.sin(x)**7\n",
    " \n",
    "#invaraiabler\n",
    "a1 = 0\n",
    "b1 = np.pi/2\n",
    "n1 = 2\n",
    "farg=0\n",
    " \n",
    "#vektorer\n",
    "x = np.linspace(a1,b1,n1+1)#n+1 element\n",
    "yfarg=['y','b','g','c','m']#fem olika färger\n",
    " \n",
    "#Plotta grafen av funktionen\n",
    "y = f(x)\n",
    "xg = np.linspace(a1,b1,100)\n",
    "yg = f(xg)\n",
    "plt.plot(xg,yg)\n",
    " \n",
    "#Här skapas fyllda trapetsbitarna\n",
    "for i in range(n1):\n",
    "\tfarg = farg+1 #första delen väljer färg mellan de fem i vektorn yfarg\n",
    "\tif farg == 5:\n",
    "    farg=0\n",
    "   \t\n",
    "\txp = [x[i],x[i],x[i+1],x[i+1]]#tar element i och i+1 och får de fyra hörnpunkter utifrån x koordinater. vektor i en vektor. Jag hämtar i x[i] från vektorn x elementet i, det blir första elementet i nya vektorn.\n",
    "\typ = [0,f(x[i]),f(x[i+1]),0]# 4 koordinater f(x). 0 är eftersom fyller mot axeln y=0\n",
    " \n",
    "\tplt.fill(xp,yp,yfarg[farg],edgecolor='b',alpha=0.1)\n",
    "\tprint (xp)\n",
    "\tprint(yp)\n",
    " \n",
    "plt.title(f\"Trapetsregeln med applicerat med n= {n1}, arean blir då A={trapetsformeln(f,0,np.pi,2)}\")\n",
    "plt.show()\n"
   ]
  },
  {
   "cell_type": "code",
   "execution_count": 46,
   "metadata": {},
   "outputs": [
    {
     "data": {
      "image/png": "[encoded data removed]",
      "text/plain": [
       "<Figure size 432x288 with 1 Axes>"
      ]
     },
     "metadata": {
      "needs_background": "light"
     },
     "output_type": "display_data"
    }
   ],
   "source": [
    "import numpy as np\n",
    "import matplotlib.pyplot as plt\n",
    "def trapetsformeln(f,a,b,n):\n",
    "#steglängd\n",
    "    h=(b-a)/n\n",
    "  #vi vet att 0.5(f(a)+f(b)) är en konstant\n",
    "    sum1=0.5*(f(a)+f(b))\n",
    "  #summering av funktionsvärden för n steg\n",
    "    for i in range (1,n):\n",
    "        sum1+=f(a+i*h)\n",
    "    return h*sum1\n",
    "f= lambda x:np.sin(x)**7\n",
    "area=trapetsformeln(f,0,np.pi/2,256)#här ser  man ju verkligen fördel med programmering.\n",
    "#definera funktionen får ej def att fungera så fick ta lamda\n",
    "f = lambda x :np.sin(x)**7\n",
    "#invaraiabler\n",
    "a1 = 0\n",
    "b1 = np.pi/2\n",
    "n1 = 256\n",
    "farg=0\n",
    "#vektorer\n",
    "x = np.linspace(a1,b1,n1+1)#n+1 element\n",
    " \n",
    "#Plotta grafen av funktionen\n",
    "y = f(x)\n",
    "xg = np.linspace(a1,b1,100)\n",
    "yg = f(xg)\n",
    "plt.plot(xg,yg)\n",
    "#Här skapas fyllda trapetsbitarna\n",
    "for i in range(n1):\n",
    "   \t\n",
    "\txp = [x[i],x[i],x[i+1],x[i+1]]#tar element i och i+1 och får de fyra hörnpunkter utifrån x koordinater. vektor i en vektor. Jag hämtar i x[i] från vektorn x elementet i, det blir första elementet i nya vektorn.\n",
    "\typ = [0,f(x[i]),f(x[i+1]),0]# 4 koordinater f(x). 0 är eftersom fyller mot axeln y=0\n",
    "\tplt.fill(xp,yp,'y',edgecolor='b',alpha=0.1)\n",
    "\t#print (xp)\n",
    "\t#print(yp)\n",
    "plt.title(f\"Approximerad area med trapetsformeln, n= {n1} ger arean A={round(area,4)}\")\n",
    "plt.show()\n"
   ]
  },
  {
   "cell_type": "code",
   "execution_count": 23,
   "metadata": {},
   "outputs": [
    {
     "name": "stdout",
     "output_type": "stream",
     "text": [
      "3.3572696285788517e-06\n",
      "4.925676687084213e-07\n",
      "1.0686195628384354e-07\n",
      "2.9887794406047163e-08\n",
      "1.0004778616679033e-08\n",
      "3.830729788933951e-09\n",
      "1.6283474568723477e-09\n",
      "7.526183010142518e-10\n",
      "3.7257313900695976e-10\n",
      "3.7257313900695976e-10\n",
      "3.7257313900695976e-10\n",
      "3.7257313900695976e-10\n",
      "3.7257313900695976e-10\n",
      "3.7257313900695976e-10\n",
      "3.7257313900695976e-10\n",
      "3.7257313900695976e-10\n",
      "3.7257313900695976e-10\n",
      "3.7257313900695976e-10\n"
     ]
    },
    {
     "data": {
      "image/png": "[encoded data removed]",
      "text/plain": [
       "<Figure size 432x288 with 1 Axes>"
      ]
     },
     "metadata": {
      "needs_background": "light"
     },
     "output_type": "display_data"
    }
   ],
   "source": [
    "import matplotlib.pyplot as plt\n",
    "import numpy as np\n",
    "\n",
    "def trapetsregel (f,a,b,n):\n",
    "    h=(b-a)/n\n",
    "    sum1=0.5*(f(a)+f(b))\n",
    "    for i in range (1,n):\n",
    "        sum1+=f(a+i*h)\n",
    "    return h*sum1\n",
    "\n",
    "def simpson(f, a, b, n):\n",
    "    h = (b - a) /(2*n)\n",
    "    s = f(a) + f(b)\n",
    "    for i in range(1, 2*n,2):\n",
    "        s += 4 * f(a + i * h)\n",
    "    for i in range(2, 2*n-1, 2):\n",
    "        s += 2 * f(a + i * h)\n",
    "    return s * h / 3\n",
    "\n",
    "f= lambda x:np.sin(x)**7\n",
    "\n",
    "N=[4,5,6,7,8,9,10,11,12]\n",
    "ET=[0,0,0,0,0,0,0,0,0]\n",
    "ES=[0,0,0,0,0,0,0,0,0]\n",
    "\n",
    "for i in range (0,9):\n",
    "    sum=trapetsregel (f,0,np.pi/2, N[i])\n",
    "    felet=abs(16/35-sum)\n",
    "    ET[i]=felet\n",
    "    print(felet)\n",
    "    \n",
    "for i in range (0,9):\n",
    "    sum2=simpson(f,0,np.pi/2,N[i])\n",
    "    felet2=abs(16/35-sum)\n",
    "    ES[i]=felet2\n",
    "    print(felet2)\n",
    "plt.plot(N,ES, marker='o',markersize=5)    \n",
    "plt.plot(N,ET,color='red', marker='o',markersize=5)\n",
    "plt.show()\n",
    "\n"
   ]
  },
  {
   "cell_type": "code",
   "execution_count": 18,
   "metadata": {},
   "outputs": [
    {
     "data": {
      "image/png": "[encoded data removed]",
      "text/plain": [
       "<Figure size 432x288 with 1 Axes>"
      ]
     },
     "metadata": {
      "needs_background": "light"
     },
     "output_type": "display_data"
    }
   ],
   "source": [
    "import matplotlib.pyplot as plt\n",
    "import numpy as np\n",
    "\n",
    "def trapetsregel (f,a,b,n):\n",
    "    h=(b-a)/n\n",
    "    sum1=0.5*(f(a)+f(b))\n",
    "    for i in range (1,n):\n",
    "        sum1+=f(a+i*h)\n",
    "    return h*sum1\n",
    "\n",
    "def simpson(f, a, b, n):\n",
    "    h = (b - a) /(2*n)\n",
    "    s = f(a) + f(b)\n",
    "    for i in range(1, 2*n,2):\n",
    "        s += 4 * f(a + i * h)\n",
    "    for i in range(2, 2*n-1, 2):\n",
    "        s += 2 * f(a + i * h)\n",
    "    return s * h / 3\n",
    "\n",
    "f= lambda x:np.sin(x)**7\n",
    "\n",
    "N=[2,3,4,5,6,7,8,9,10]\n",
    "ET=[0,0,0,0,0,0,0,0,0]\n",
    "ES=[0,0,0,0,0,0,0,0,0]\n",
    "\n",
    "for i in range (0,9):\n",
    "    felet=(((np.pi/2)**3)/(12*(N[i])**2))*7\n",
    "    ET[i]=felet\n",
    "    \n",
    "for i in range (0,9):\n",
    "    felet2=(((np.pi/2)**5)/(180*(N[i])**4))*133\n",
    "    ES[i]=felet2\n",
    "    \n",
    "plt.plot(N,ES, marker='o',markersize=5)    \n",
    "plt.plot(N,ET,color='red', marker='o',markersize=5)\n",
    "plt.show()"
   ]
  },
  {
   "cell_type": "code",
   "execution_count": null,
   "metadata": {},
   "outputs": [],
   "source": []
  }
 ],
 "metadata": {
  "kernelspec": {
   "display_name": "Python 3",
   "language": "python",
   "name": "python3"
  },
  "language_info": {
   "codemirror_mode": {
    "name": "ipython",
    "version": 3
   },
   "file_extension": ".py",
   "mimetype": "text/x-python",
   "name": "python",
   "nbconvert_exporter": "python",
   "pygments_lexer": "ipython3",
   "version": "3.8.3"
  }
 },
 "nbformat": 4,
 "nbformat_minor": 4
}
